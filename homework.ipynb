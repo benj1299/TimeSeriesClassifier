{
 "cells": [
  {
   "cell_type": "code",
   "execution_count": null,
   "metadata": {},
   "outputs": [],
   "source": [
    "import pandas as pd\n",
    "import numpy as np\n",
    "import matplotlib.pyplot as plt\n",
    "from sklearn import decomposition\n",
    "from skimage.filters import gabor_kernel\n",
    "from sklearn.model_selection import StratifiedKFold, cross_validate\n",
    "from sklearn.ensemble import RandomForestClassifier\n",
    "from sklearn.preprocessing import LabelEncoder\n",
    "import tensorflow as tf\n",
    "import tensorflow.keras as keras\n",
    "from tensorflow.keras.models import Sequential\n",
    "from tensorflow.keras.layers import Dense\n",
    "from tensorflow.keras.regularizers import l2\n",
    "from tensorflow.keras.initializers import VarianceScaling"
   ]
  },
  {
   "cell_type": "code",
   "execution_count": null,
   "metadata": {},
   "outputs": [],
   "source": [
    "X = pd.read_parquet(\"./data/Class1.parquet\", engine=\"pyarrow\")\n",
    "y = pd.read_parquet(\"./data/validation.parquet\", engine=\"pyarrow\")"
   ]
  },
  {
   "cell_type": "code",
   "execution_count": null,
   "metadata": {},
   "outputs": [],
   "source": [
    "y.head()"
   ]
  },
  {
   "cell_type": "code",
   "execution_count": null,
   "metadata": {},
   "outputs": [],
   "source": [
    "fig, axs = plt.subplots(figsize=(12, 4))\n",
    "y[10].plot(kind=\"bar\", rot=0, ax=axs)\n"
   ]
  },
  {
   "cell_type": "code",
   "execution_count": null,
   "metadata": {},
   "outputs": [],
   "source": [
    "# RandomForest Test\n",
    "num_classes = len(np.unique(y))\n",
    "model = RandomForestClassifier(random_state = 42, class_weight=\"balanced\", criterion = 'gini', max_depth = 3, max_features = 'auto', n_estimators = 500)\n",
    "\n",
    "kf = StratifiedKFold(n_splits=10, shuffle=True, random_state=0)\n",
    "\n",
    "for i, (train_index, val_index) in enumerate(kf.split(X, y)):\n",
    "    x_train_kf, x_val_kf = X[train_index], X[val_index]\n",
    "    y_train_kf, y_val_kf = y[train_index], y[val_index]\n",
    "\n",
    "y_train_categorical = keras.utils.to_categorical(y, num_classes)\n",
    "\n",
    "output = cross_validate(model, X, y, cv=kf, scoring = 'roc_auc', return_estimator =True)\n"
   ]
  },
  {
   "cell_type": "code",
   "execution_count": null,
   "metadata": {},
   "outputs": [],
   "source": [
    "# Deep Learning Model\n",
    "cvscores = []\n",
    "y_max = y.idxmax(axis=1)\n",
    "\n",
    "for train, test in kf.split(X, y_max):\n",
    "    train, test = X.iloc[list(train)], X.iloc[list(test)]\n",
    "\n",
    "    model = Sequential()\n",
    "    model.add(Dense(10, input_dim=20, \n",
    "                kernel_regularizer=l2(0.001),\n",
    "                kernel_initializer=VarianceScaling(), \n",
    "                activation='sigmoid'))\n",
    "    model.add(Dense(5, \n",
    "                kernel_regularizer=l2(0.01),\n",
    "                kernel_initializer=VarianceScaling(),                 \n",
    "                activation='sigmoid'))\n",
    "    \n",
    "    model.compile(loss='binary_crossentropy', optimizer='adam', \n",
    "              metrics=['acc'])\n",
    "    \n",
    "    model.fit(X[train], y[train], epochs=50, batch_size=25, verbose = 0,\n",
    "              validation_data=(X[test], y[test]))\n",
    "\n",
    "    scores = model.evaluate(X[test], y[test], verbose=0)\n",
    "    print(\"%s: %.2f%%\" % (model.metrics_names[2], scores[2]*100))\n",
    "    cvscores.append(scores[2] * 100)"
   ]
  },
  {
   "cell_type": "code",
   "execution_count": null,
   "metadata": {},
   "outputs": [],
   "source": [
    "X.columns"
   ]
  },
  {
   "cell_type": "code",
   "execution_count": null,
   "metadata": {},
   "outputs": [],
   "source": []
  }
 ],
 "metadata": {
  "kernelspec": {
   "display_name": "Python 3.7.6 64-bit ('base': conda)",
   "metadata": {
    "interpreter": {
     "hash": "6b9cebdf7c217a7834b4f1c5bf924af82c863a004b175b934bc96236023a1385"
    }
   },
   "name": "python3"
  },
  "language_info": {
   "codemirror_mode": {
    "name": "ipython",
    "version": 3
   },
   "file_extension": ".py",
   "mimetype": "text/x-python",
   "name": "python",
   "nbconvert_exporter": "python",
   "pygments_lexer": "ipython3",
   "version": "3.7.6"
  },
  "orig_nbformat": 2
 },
 "nbformat": 4,
 "nbformat_minor": 2
}